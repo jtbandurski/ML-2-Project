{
 "cells": [
  {
   "cell_type": "code",
   "execution_count": null,
   "metadata": {},
   "outputs": [],
   "source": [
    "import pandas as pd\n",
    "import torch\n",
    "import torch.nn as nn\n",
    "from torch.optim import Adam\n",
    "import torch.nn.functional as F\n",
    "from torch.utils.data import Dataset, DataLoader\n",
    "import torchaudio\n",
    "import IPython.display as ipd\n",
    "import timm\n",
    "from sklearn.preprocessing import LabelEncoder\n",
    "from sklearn.model_selection import StratifiedKFold\n",
    "from sklearn.metrics import f1_score\n",
    "import os\n",
    "import gc\n",
    "import random\n",
    "import numpy as np\n",
    "import matplotlib.pyplot as plt\n",
    "import seaborn as sns\n",
    "from tqdm import tqdm\n",
    "import folium\n",
    "from folium.plugins import HeatMap\n",
    "import librosa\n",
    "from IPython.display import Audio"
   ]
  },
  {
   "cell_type": "code",
   "execution_count": null,
   "metadata": {},
   "outputs": [],
   "source": [
    "df = pd.read_csv(\"../data/train_metadata.csv\")"
   ]
  },
  {
   "cell_type": "code",
   "execution_count": null,
   "metadata": {},
   "outputs": [],
   "source": [
    "df.head()"
   ]
  },
  {
   "cell_type": "markdown",
   "metadata": {},
   "source": [
    "<h3> Creating barplots <h3>"
   ]
  },
  {
   "cell_type": "code",
   "execution_count": null,
   "metadata": {},
   "outputs": [],
   "source": [
    "plt.figure(figsize=(24, 8))\n",
    "most_common_names = df[\"common_name\"].value_counts().nlargest(40).index\n",
    "barplot_data = df[df[\"common_name\"].isin(most_common_names)]\n",
    "common_name_counts = barplot_data[\"common_name\"].value_counts().sort_values(ascending=False)\n",
    "\n",
    "sns.barplot(x=common_name_counts.index, y=common_name_counts.values, palette=\"magma\")\n",
    "plt.xticks(rotation=45, ha=\"right\")\n",
    "plt.title(\"Distribution of the species of most frequent birds\", fontsize=16)\n",
    "plt.xlabel(\"Name\", fontsize=14)\n",
    "plt.ylabel('Count', fontsize=14)"
   ]
  },
  {
   "cell_type": "code",
   "execution_count": null,
   "metadata": {},
   "outputs": [],
   "source": [
    "plt.figure(figsize=(24, 8))\n",
    "least_common_names = df[\"common_name\"].value_counts().nsmallest(40).index\n",
    "barplot_data = df[df[\"common_name\"].isin(least_common_names)]\n",
    "common_name_counts = barplot_data[\"common_name\"].value_counts().sort_values(ascending=False)\n",
    "\n",
    "sns.barplot(x=common_name_counts.index, y=common_name_counts.values, palette=\"magma\")\n",
    "plt.xticks(rotation=45, ha=\"right\")\n",
    "plt.title(\"Distribution of the species of least frequent birds\", fontsize=16)\n",
    "plt.xlabel(\"Name\", fontsize=14)\n",
    "plt.ylabel(\"Count\", fontsize=14)"
   ]
  },
  {
   "cell_type": "markdown",
   "metadata": {},
   "source": [
    "<h3> Creating heatmap and pointer map <h3>"
   ]
  },
  {
   "cell_type": "code",
   "execution_count": null,
   "metadata": {},
   "outputs": [],
   "source": [
    "map_data = df.dropna(subset=[\"latitude\", \"longitude\"])\n",
    "center_lat = map_data[\"latitude\"].mean()\n",
    "center_lon = map_data[\"longitude\"].mean()"
   ]
  },
  {
   "cell_type": "code",
   "execution_count": null,
   "metadata": {},
   "outputs": [],
   "source": [
    "my_map = folium.Map(location=[center_lat, center_lon], zoom_start=2)\n",
    "heat_data = [[row[\"latitude\"], row[\"longitude\"]] for index, row in map_data.iterrows()]\n",
    "heatmap = HeatMap(heat_data, radius=8, blur=0.5, max_zoom=0, opacity=0.3).add_to(my_map)\n",
    "heatmap.save(\"../plots/birds_heatmap.html\")"
   ]
  },
  {
   "cell_type": "code",
   "execution_count": null,
   "metadata": {},
   "outputs": [],
   "source": [
    "my_map_marker = folium.Map(location=[center_lat, center_lon], zoom_start=2)\n",
    "for index, row in map_data.iloc[::4].iterrows():\n",
    "    folium.CircleMarker(\n",
    "        location=[row[\"latitude\"], row[\"longitude\"]],\n",
    "        radius=2,\n",
    "        color=\"purple\",\n",
    "        fill=True,\n",
    "        fill_color=\"purple\",\n",
    "        fill_opacity=0.7,\n",
    "    ).add_to(my_map_marker)\n",
    "my_map_marker.save(\"../plots/birds_markers.html\")"
   ]
  },
  {
   "cell_type": "markdown",
   "metadata": {},
   "source": [
    "<h3> Plotting waveforms <h3>"
   ]
  },
  {
   "cell_type": "code",
   "execution_count": null,
   "metadata": {},
   "outputs": [],
   "source": [
    "filename_1 = \"../data/train_audio/abethr1/XC531557.ogg\"\n",
    "filename_2 = \"../data/train_audio/blcapa2/XC120191.ogg\"\n",
    "\n",
    "fig, ax = plt.subplots(2, 1, figsize=(20, 10))\n",
    "fig.suptitle(\"Sound Waves\", fontsize=15)\n",
    "\n",
    "signal_1, sr = torchaudio.load(filename_1)\n",
    "sns.lineplot(\n",
    "    x=np.arange(len(signal_1[0, :].detach().numpy())),\n",
    "    y=signal_1[0, :].detach().numpy(),\n",
    "    ax=ax[0],\n",
    "    color=\"#F2C36B\",\n",
    ")\n",
    "ax[0].set_title(\"Audio 1\")\n",
    "\n",
    "signal_2, sr = torchaudio.load(filename_2)\n",
    "sns.lineplot(\n",
    "    x=np.arange(len(signal_2[0, :].detach().numpy())),\n",
    "    y=signal_2[0, :].detach().numpy(),\n",
    "    ax=ax[1],\n",
    "    color=\"#F2C36B\",\n",
    ")\n",
    "ax[1].set_title(\"Audio 2\")\n",
    "\n",
    "plt.show()"
   ]
  },
  {
   "cell_type": "markdown",
   "metadata": {},
   "source": [
    "<h3> Plotting spectrograms <h3>"
   ]
  },
  {
   "cell_type": "code",
   "execution_count": null,
   "metadata": {},
   "outputs": [],
   "source": [
    "def visualize_duplicate_audio(file1, file2):\n",
    "    path = \"../data/train_audio/\"\n",
    "    filename1 = path + file1\n",
    "    filename2 = path + file2\n",
    "\n",
    "    fig, axs = plt.subplots(1, 2, figsize=(16, 8))\n",
    "\n",
    "    y1, sr1 = librosa.load(filename1)\n",
    "    spec1 = librosa.display.specshow(\n",
    "        librosa.power_to_db(librosa.feature.melspectrogram(y=y1, sr=sr1, n_mels=128, fmax=8000)),\n",
    "        y_axis=\"mel\",\n",
    "        fmax=8000,\n",
    "        x_axis=\"time\",\n",
    "        ax=axs[0],\n",
    "    )\n",
    "\n",
    "    axs[0].set_title(f'Mel-Spectrogram | file: {filename1.split(\"/\")[-1]}')\n",
    "    plt.colorbar(spec1, format=\"%+2.0f dB\", ax=axs[0])\n",
    "\n",
    "    y2, sr2 = librosa.load(filename2)\n",
    "    spec2 = librosa.display.specshow(\n",
    "        librosa.power_to_db(librosa.feature.melspectrogram(y=y2, sr=sr2, n_mels=128, fmax=8000)),\n",
    "        y_axis=\"mel\",\n",
    "        fmax=8000,\n",
    "        x_axis=\"time\",\n",
    "        ax=axs[1],\n",
    "    )\n",
    "\n",
    "    axs[1].set_title(f'Mel-Spectrogram | file: {filename2.split(\"/\")[-1]}')\n",
    "    plt.colorbar(spec2, format=\"%+2.0f dB\", ax=axs[1])\n",
    "\n",
    "    print(\" \" * 5, filename1.split(\"audio\")[1])\n",
    "    display(Audio(filename1))\n",
    "    print(\" \" * 5, filename2.split(\"audio\")[1])\n",
    "    display(Audio(filename2))\n",
    "\n",
    "    plt.show()"
   ]
  },
  {
   "cell_type": "code",
   "execution_count": null,
   "metadata": {},
   "outputs": [],
   "source": [
    "visualize_duplicate_audio(\"blnmou1/XC18470.ogg\", \"afrgos1/XC115984.ogg\")"
   ]
  },
  {
   "cell_type": "code",
   "execution_count": null,
   "metadata": {},
   "outputs": [],
   "source": [
    "visualize_duplicate_audio(\"rerswa1/XC133800.ogg\", \"cohmar1/XC25835.ogg\")"
   ]
  },
  {
   "cell_type": "markdown",
   "metadata": {},
   "source": [
    "<h3> Plotting average duration of recording <h3>"
   ]
  },
  {
   "cell_type": "code",
   "execution_count": null,
   "metadata": {},
   "outputs": [],
   "source": [
    "plt.figure(figsize=(24, 8))\n",
    "sns.violinplot(x=df[\"rating\"], palette=\"viridis\")"
   ]
  },
  {
   "cell_type": "code",
   "execution_count": null,
   "metadata": {},
   "outputs": [],
   "source": [
    "values_rating_ordered = df[\"rating\"].value_counts().sort_values(ascending=False)"
   ]
  },
  {
   "cell_type": "code",
   "execution_count": null,
   "metadata": {},
   "outputs": [],
   "source": [
    "plt.figure(figsize=(24, 8))\n",
    "sns.barplot(x=values_rating_ordered.index, y=values_rating_ordered.values, color=\"#F2C36B\")\n",
    "plt.xlabel(\"Rating\")\n",
    "plt.ylabel(\"Count\")\n",
    "plt.title(\"Amount of specific rating values\")"
   ]
  }
 ],
 "metadata": {
  "kernelspec": {
   "display_name": "m1_project",
   "language": "python",
   "name": "python3"
  },
  "language_info": {
   "codemirror_mode": {
    "name": "ipython",
    "version": 3
   },
   "file_extension": ".py",
   "mimetype": "text/x-python",
   "name": "python",
   "nbconvert_exporter": "python",
   "pygments_lexer": "ipython3",
   "version": "3.9.13"
  }
 },
 "nbformat": 4,
 "nbformat_minor": 2
}

{
 "cells": [
  {
   "cell_type": "code",
   "execution_count": null,
   "metadata": {},
   "outputs": [],
   "source": [
    "import pandas as pd\n",
    "import torch\n",
    "import torch.nn as nn\n",
    "from torch.optim import Adam\n",
    "import torch.nn.functional as F\n",
    "from torch.utils.data import Dataset, DataLoader\n",
    "import torchaudio\n",
    "import IPython.display as ipd\n",
    "import timm\n",
    "from sklearn.preprocessing import LabelEncoder\n",
    "from sklearn.model_selection import StratifiedKFold\n",
    "from sklearn.metrics import f1_score\n",
    "import os\n",
    "import gc\n",
    "import random\n",
    "import numpy as np\n",
    "import matplotlib.pyplot as plt\n",
    "import seaborn as sns\n",
    "from tqdm import tqdm\n",
    "import folium\n",
    "from folium.plugins import HeatMap, MarkerCluster\n",
    "import webbrowser"
   ]
  },
  {
   "cell_type": "code",
   "execution_count": null,
   "metadata": {},
   "outputs": [],
   "source": [
    "df = pd.read_csv(\"../data/train_metadata.csv\")"
   ]
  },
  {
   "cell_type": "code",
   "execution_count": null,
   "metadata": {},
   "outputs": [],
   "source": [
    "df.head()"
   ]
  },
  {
   "cell_type": "markdown",
   "metadata": {},
   "source": [
    "<h3> Creating barplots <h3>"
   ]
  },
  {
   "cell_type": "code",
   "execution_count": null,
   "metadata": {},
   "outputs": [],
   "source": [
    "plt.figure(figsize=(24, 8))\n",
    "most_common_names = df[\"common_name\"].value_counts().nlargest(40).index\n",
    "barplot_data = df[df[\"common_name\"].isin(most_common_names)]\n",
    "common_name_counts = barplot_data[\"common_name\"].value_counts().sort_values(ascending=False)\n",
    "\n",
    "sns.barplot(x=common_name_counts.index, y=common_name_counts.values, palette=\"magma\")\n",
    "plt.xticks(rotation=45, ha=\"right\")\n",
    "plt.title(\"Distribution of the species of most frequent birds\", fontsize=16)\n",
    "plt.xlabel(\"Name\", fontsize=14)\n",
    "plt.ylabel('Count', fontsize=14)"
   ]
  },
  {
   "cell_type": "code",
   "execution_count": null,
   "metadata": {},
   "outputs": [],
   "source": [
    "plt.figure(figsize=(24, 8))\n",
    "least_common_names = df[\"common_name\"].value_counts().nsmallest(40).index\n",
    "barplot_data = df[df[\"common_name\"].isin(least_common_names)]\n",
    "common_name_counts = barplot_data[\"common_name\"].value_counts().sort_values(ascending=False)\n",
    "\n",
    "sns.barplot(x=common_name_counts.index, y=common_name_counts.values, palette=\"magma\")\n",
    "plt.xticks(rotation=45, ha=\"right\")\n",
    "plt.title(\"Distribution of the species of least frequent birds\", fontsize=16)\n",
    "plt.xlabel(\"Name\", fontsize=14)\n",
    "plt.ylabel(\"Count\", fontsize=14)"
   ]
  },
  {
   "cell_type": "markdown",
   "metadata": {},
   "source": [
    "<h3> Creating heatmap and pointer map <h3>"
   ]
  },
  {
   "cell_type": "code",
   "execution_count": null,
   "metadata": {},
   "outputs": [],
   "source": [
    "map_data = df.dropna(subset=[\"latitude\", \"longitude\"])\n",
    "center_lat = map_data[\"latitude\"].mean()\n",
    "center_lon = map_data[\"longitude\"].mean()"
   ]
  },
  {
   "cell_type": "code",
   "execution_count": null,
   "metadata": {},
   "outputs": [],
   "source": [
    "my_map = folium.Map(location=[center_lat, center_lon], zoom_start=2)\n",
    "heat_data = [[row[\"latitude\"], row[\"longitude\"]] for index, row in map_data.iterrows()]\n",
    "heatmap = HeatMap(heat_data, radius=8, blur=0.5, max_zoom=0, opacity=0.3).add_to(my_map)\n",
    "heatmap.save(\"../plots/birds_heatmap.html\")"
   ]
  },
  {
   "cell_type": "code",
   "execution_count": null,
   "metadata": {},
   "outputs": [],
   "source": [
    "my_map_marker = folium.Map(location=[center_lat, center_lon], zoom_start=2)\n",
    "for index, row in map_data.iloc[::4].iterrows():\n",
    "    folium.CircleMarker(\n",
    "        location=[row[\"latitude\"], row[\"longitude\"]],\n",
    "        radius=2,\n",
    "        color=\"purple\",\n",
    "        fill=True,\n",
    "        fill_color=\"purple\",\n",
    "        fill_opacity=0.7,\n",
    "    ).add_to(my_map_marker)\n",
    "my_map_marker.save(\"../plots/birds_markers.html\")"
   ]
  },
  {
   "cell_type": "code",
   "execution_count": null,
   "metadata": {},
   "outputs": [],
   "source": []
  }
 ],
 "metadata": {
  "kernelspec": {
   "display_name": "m1_project",
   "language": "python",
   "name": "python3"
  },
  "language_info": {
   "codemirror_mode": {
    "name": "ipython",
    "version": 3
   },
   "file_extension": ".py",
   "mimetype": "text/x-python",
   "name": "python",
   "nbconvert_exporter": "python",
   "pygments_lexer": "ipython3",
   "version": "3.9.13"
  }
 },
 "nbformat": 4,
 "nbformat_minor": 2
}

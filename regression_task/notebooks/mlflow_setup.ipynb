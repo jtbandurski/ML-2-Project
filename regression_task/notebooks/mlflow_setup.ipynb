{
 "cells": [
  {
   "cell_type": "code",
   "execution_count": null,
   "metadata": {},
   "outputs": [],
   "source": [
    "import mlflow\n",
    "import time\n",
    "from sklearn.metrics import accuracy_score\n",
    "\n",
    "def train_model(params):\n",
    "    # Your model training code here\n",
    "    # This function should return the accuracy of the model\n",
    "    pass\n",
    "\n",
    "def run_experiment(params):\n",
    "    with mlflow.start_run():\n",
    "        start_time = time.time()\n",
    "\n",
    "        # Train the model and get the accuracy\n",
    "        accuracy = train_model(params)\n",
    "\n",
    "        # Log the accuracy\n",
    "        mlflow.log_metric(\"accuracy\", accuracy)\n",
    "\n",
    "        # Calculate and log the time taken\n",
    "        time_taken = time.time() - start_time\n",
    "        mlflow.log_metric(\"time_taken\", time_taken)\n",
    "\n",
    "        # Log the parameters used\n",
    "        for key, value in params.items():\n",
    "            mlflow.log_param(key, value)\n",
    "\n",
    "# Example usage:\n",
    "params = {\"param1\": value1, \"param2\": value2}\n",
    "run_experiment(params)"
   ]
  }
 ],
 "metadata": {
  "language_info": {
   "name": "python"
  }
 },
 "nbformat": 4,
 "nbformat_minor": 2
}
